{
 "cells": [
  {
   "cell_type": "markdown",
   "id": "4ea0b243",
   "metadata": {},
   "source": [
    "# Notebook 03: Modeling & Evaluation\n",
    "\n",
    "This notebook focuses on building and evaluating machine learning models to predict customer churn.\n",
    "\n",
    "### Objectives of This Notebook:\n",
    "- Train baseline and advanced classifiers\n",
    "- Evaluate model performance using classification metrics and ROC AUC\n",
    "- Compare models visually using confusion matrices and ROC curves"
   ]
  },
  {
   "cell_type": "markdown",
   "id": "891bce7a",
   "metadata": {},
   "source": [
    "### Step 1: Import Libraries\n",
    "We load classification models and evaluation tools from `sklearn`, `matplotlib`, and `seaborn` to help with visualizing performance."
   ]
  },
  {
   "cell_type": "code",
   "execution_count": 1,
   "id": "59ca21d5",
   "metadata": {},
   "outputs": [],
   "source": [
    "import pandas as pd\n",
    "from sklearn.linear_model import LogisticRegression\n",
    "from sklearn.ensemble import RandomForestClassifier\n",
    "from sklearn.metrics import classification_report, confusion_matrix, roc_auc_score, roc_curve\n",
    "import matplotlib.pyplot as plt\n",
    "import seaborn as sns"
   ]
  },
  {
   "cell_type": "markdown",
   "id": "36c1e5ef",
   "metadata": {},
   "source": [
    "### Step 2: Load Cleaned Training Data\n",
    "These are the files we exported from Notebook 02. We will train our models on this preprocessed data."
   ]
  },
  {
   "cell_type": "code",
   "execution_count": 2,
   "id": "44568921",
   "metadata": {},
   "outputs": [],
   "source": [
    "X_train = pd.read_csv(\"../data/X_train_clean.csv\")\n",
    "X_test = pd.read_csv(\"../data/X_test_clean.csv\")\n",
    "y_train = pd.read_csv(\"../data/y_train_clean.csv\").squeeze()\n",
    "y_test = pd.read_csv(\"../data/y_test_clean.csv\").squeeze()"
   ]
  },
  {
   "cell_type": "markdown",
   "id": "d22088dd",
   "metadata": {},
   "source": [
    "### Step 3: Logistic Regression (Baseline Model)\n",
    "We start with a simple interpretable model as a baseline. This helps us evaluate whether more complex models offer real gains."
   ]
  },
  {
   "cell_type": "code",
   "execution_count": 3,
   "id": "27627b66",
   "metadata": {},
   "outputs": [],
   "source": [
    "logreg = LogisticRegression(max_iter=1000, class_weight='balanced', random_state=42)\n",
    "logreg.fit(X_train, y_train)\n",
    "y_pred_logreg = logreg.predict(X_test)\n",
    "y_prob_logreg = logreg.predict_proba(X_test)[:, 1]"
   ]
  },
  {
   "cell_type": "code",
   "execution_count": 4,
   "id": "100ae7e2",
   "metadata": {},
   "outputs": [
    {
     "name": "stdout",
     "output_type": "stream",
     "text": [
      "--- Logistic Regression Report ---\n",
      "              precision    recall  f1-score   support\n",
      "\n",
      "           0       0.96      0.86      0.91      1701\n",
      "           1       0.52      0.81      0.63       325\n",
      "\n",
      "    accuracy                           0.85      2026\n",
      "   macro avg       0.74      0.83      0.77      2026\n",
      "weighted avg       0.89      0.85      0.86      2026\n",
      "\n",
      "ROC AUC: 0.9164654275765387\n"
     ]
    }
   ],
   "source": [
    "print(\"--- Logistic Regression Report ---\")\n",
    "print(classification_report(y_test, y_pred_logreg))\n",
    "print(\"ROC AUC:\", roc_auc_score(y_test, y_prob_logreg))"
   ]
  },
  {
   "cell_type": "markdown",
   "id": "c1cbb351",
   "metadata": {},
   "source": [
    "The Logistic Regression model shows solid baseline performance:\n",
    "- Accuracy: **85%**\n",
    "- Recall for churn class: **81%** — this indicates a strong ability to capture actual churners.\n",
    "- ROC AUC: With a score of **0.9165**, it shows good overall separation between churners and non-churners.\n",
    "\n",
    "However, the lower precision **(52%)** for churn indicates a higher false positive rate. There's room to improve precision and overall balance with a more flexible model."
   ]
  },
  {
   "cell_type": "markdown",
   "id": "9e48074f",
   "metadata": {},
   "source": [
    "### Step 5: Random Forest Classifier\n",
    "Now we train a more powerful ensemble model to see if it improves predictive performance."
   ]
  },
  {
   "cell_type": "code",
   "execution_count": 5,
   "id": "cffebbfc",
   "metadata": {},
   "outputs": [],
   "source": [
    "rf = RandomForestClassifier(n_estimators=100, class_weight='balanced', random_state=42)\n",
    "rf.fit(X_train, y_train)\n",
    "y_pred_rf = rf.predict(X_test)\n",
    "y_prob_rf = rf.predict_proba(X_test)[:, 1]"
   ]
  },
  {
   "cell_type": "markdown",
   "id": "6a9ec325",
   "metadata": {},
   "source": [
    "### Step 6: Random Forest Results\n",
    "We compare precision, recall, and ROC AUC to the Logistic Regression baseline."
   ]
  },
  {
   "cell_type": "code",
   "execution_count": 6,
   "id": "d18d9dea",
   "metadata": {},
   "outputs": [
    {
     "name": "stdout",
     "output_type": "stream",
     "text": [
      "\n",
      "--- Random Forest Report ---\n",
      "              precision    recall  f1-score   support\n",
      "\n",
      "           0       0.95      0.99      0.97      1701\n",
      "           1       0.93      0.75      0.83       325\n",
      "\n",
      "    accuracy                           0.95      2026\n",
      "   macro avg       0.94      0.87      0.90      2026\n",
      "weighted avg       0.95      0.95      0.95      2026\n",
      "\n",
      "ROC AUC: 0.9857459413014968\n"
     ]
    }
   ],
   "source": [
    "print(\"\\n--- Random Forest Report ---\")\n",
    "print(classification_report(y_test, y_pred_rf))\n",
    "print(\"ROC AUC:\", roc_auc_score(y_test, y_prob_rf))"
   ]
  },
  {
   "cell_type": "markdown",
   "id": "149804bc",
   "metadata": {},
   "source": [
    "The Random Forest model improves on nearly every metric:\n",
    "- Accuracy: **95%**\n",
    "- Recall for churn class: **75%** — slightly lower than Logistic, but balanced by higher precision at **93%**.\n",
    "- ROC AUC: With a score of **0.9857**, it demonstrates excellent ability to separate the two classes.\n",
    "\n",
    "These results suggest Random Forest is a strong candidate for business deployment, offering both precision and overall reliability."
   ]
  },
  {
   "cell_type": "markdown",
   "id": "b522145a",
   "metadata": {},
   "source": [
    "### Step 7: Confusion Matrix\n",
    "This visual helps us understand the balance between false positives and false negatives, which is critical for churn mitigation."
   ]
  },
  {
   "cell_type": "code",
   "execution_count": 7,
   "id": "88d62151",
   "metadata": {},
   "outputs": [
    {
     "data": {
      "image/png": "[encoded data removed]",
      "text/plain": [
       "<Figure size 600x400 with 2 Axes>"
      ]
     },
     "metadata": {},
     "output_type": "display_data"
    }
   ],
   "source": [
    "plt.figure(figsize=(6, 4))\n",
    "sns.heatmap(confusion_matrix(y_test, y_pred_rf), annot=True, fmt='d', cmap='Blues')\n",
    "plt.title(\"Random Forest - Confusion Matrix\")\n",
    "plt.xlabel(\"Predicted\")\n",
    "plt.ylabel(\"Actual\")\n",
    "plt.tight_layout()\n",
    "plt.show()"
   ]
  },
  {
   "cell_type": "markdown",
   "id": "1eb6a975",
   "metadata": {},
   "source": [
    "The confusion matrix gives us a visual summary of predictions:\n",
    "- True Positives (churn correctly identified): 244\n",
    "- True Negatives (loyal customers correctly retained): 1684\n",
    "- False Positives: 17\n",
    "- False Negatives: 81\n",
    "\n",
    "This balance is solid, indicating we catch most churners while minimizing unnecessary outreach to loyal users.\n"
   ]
  },
  {
   "cell_type": "markdown",
   "id": "7045800c",
   "metadata": {},
   "source": [
    "### Step 8: ROC Curve Comparison\n",
    "We compare model sensitivity (true positive rate) across thresholds to visualize overall performance."
   ]
  },
  {
   "cell_type": "code",
   "execution_count": 8,
   "id": "851af7d9",
   "metadata": {},
   "outputs": [
    {
     "data": {
      "image/png": "[encoded data removed]",
      "text/plain": [
       "<Figure size 600x400 with 1 Axes>"
      ]
     },
     "metadata": {},
     "output_type": "display_data"
    }
   ],
   "source": [
    "fpr_log, tpr_log, _ = roc_curve(y_test, y_prob_logreg)\n",
    "fpr_rf, tpr_rf, _ = roc_curve(y_test, y_prob_rf)\n",
    "\n",
    "plt.figure(figsize=(6, 4))\n",
    "plt.plot(fpr_log, tpr_log, label='Logistic Regression')\n",
    "plt.plot(fpr_rf, tpr_rf, label='Random Forest')\n",
    "plt.plot([0, 1], [0, 1], linestyle='--', color='gray')\n",
    "plt.title(\"ROC Curve\")\n",
    "plt.xlabel(\"False Positive Rate\")\n",
    "plt.ylabel(\"True Positive Rate\")\n",
    "plt.legend()\n",
    "plt.tight_layout()\n",
    "plt.show()"
   ]
  },
  {
   "cell_type": "markdown",
   "id": "964a1b5e",
   "metadata": {},
   "source": [
    "The ROC curve provides a visual comparison of classifier performance:\n",
    "- Logistic Regression AUC: **0.9165**\n",
    "- Random Forest AUC: **0.9857**\n",
    "\n",
    "The Random Forest ROC curve consistently outperforms, indicating superior discrimination between churn and non-churn cases at nearly every threshold."
   ]
  },
  {
   "cell_type": "markdown",
   "id": "2538d3c2",
   "metadata": {},
   "source": [
    "### Step 9: Summary & Next Steps\n",
    "\n",
    "We were able to build and evaluate two machine learning models to predict customer churn:\n",
    "- A baseline Logistic Regression model, which offered solid performance and strong recall for the minority class\n",
    "- A more advanced Random Forest model, which achieved significantly higher performance across all metrics, especially ROC AUC **(~0.99)**\n",
    "\n",
    "We also visualized performance using ROC curves and confusion matrices, confirming that the Random Forest model is well-suited for identifying at-risk customers in an imbalanced classification setting.\n",
    "\n",
    "In Notebook 04, we’ll: \n",
    "\n",
    "- Shift our focus from performance to interpretation by analyzing the most important features driving churn predictions.\n",
    "- Our goal will be to summarize key findings and translate those insights into actionable business recommendations."
   ]
  }
 ],
 "metadata": {
  "kernelspec": {
   "display_name": "venv",
   "language": "python",
   "name": "python3"
  },
  "language_info": {
   "codemirror_mode": {
    "name": "ipython",
    "version": 3
   },
   "file_extension": ".py",
   "mimetype": "text/x-python",
   "name": "python",
   "nbconvert_exporter": "python",
   "pygments_lexer": "ipython3",
   "version": "3.13.3"
  }
 },
 "nbformat": 4,
 "nbformat_minor": 5
}
